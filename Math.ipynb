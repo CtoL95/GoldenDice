{
 "cells": [
  {
   "cell_type": "markdown",
   "id": "9b565cb2-9b25-4170-8994-51dd54105a46",
   "metadata": {
    "tags": []
   },
   "source": [
    "## titel 2"
   ]
  },
  {
   "cell_type": "code",
   "execution_count": null,
   "id": "fc6ea742-5dd9-4e15-800f-b1c0316ae58a",
   "metadata": {},
   "outputs": [],
   "source": [
    "from scipy import integrate\n",
    "import numpy as np\n",
    "\n",
    "def f(x):\n",
    "    return 3*x**2+5*x-2\n",
    "\n",
    "a = 0\n",
    "b = 0.57736\n",
    "\n",
    "def solver():\n",
    "    solutions = []\n",
    "    for i in range(-100,100):\n",
    "        i = i/10\n",
    "        if f(i) == 0:\n",
    "            solutions.append(i)\n",
    "    return solutions\n",
    "\n",
    "def integral_1(a,b):\n",
    "    if round(integrate.quad(f, a, b)[0],2) == 1.0:\n",
    "        integ = True\n",
    "    else:\n",
    "        integ = False\n",
    "    return integ\n",
    "\n",
    "def positivity(a,b):\n",
    "    a = round(a)\n",
    "    b = round(b)\n",
    "    pos = True\n",
    "    for i in range(a,b):\n",
    "        if f(i) < 0:\n",
    "            pos = False       \n",
    "    return pos\n",
    "\n",
    "def is_prime(n: int):\n",
    "    if n <= 3:\n",
    "        return n > 1\n",
    "    if n % 2 == 0 or n % 3 == 0:\n",
    "        return False\n",
    "    limit = int(math.sqrt(n))\n",
    "    for i in range(5, limit+1, 6):\n",
    "        if n % i == 0 or n % (i+2) == 0:\n",
    "            return False\n",
    "    return True\n",
    "\n",
    "def modularity(n: int):\n",
    "    modul = []\n",
    "    for i in range(1,n):\n",
    "        if n%i == 0:\n",
    "            modul.append(i)\n",
    "        else:\n",
    "            next\n",
    "    return modul\n"
   ]
  },
  {
   "cell_type": "code",
   "execution_count": 7,
   "id": "8c34aea8-61c5-4eca-a83d-e320e25a111d",
   "metadata": {
    "tags": []
   },
   "outputs": [],
   "source": [
    "def f(x):\n",
    "    if x <= 1.3:\n",
    "        y = 3*x**2+5*x-2\n",
    "    elif x > 1.3 and x <= 1.5:\n",
    "        y = 2*x -10\n",
    "    elif x > 1.5:\n",
    "        y = 5*x -2       \n",
    "    return y\n",
    "\n",
    "def f(x):\n",
    "    y = 3*x**2+5*x-2\n",
    "    return y\n"
   ]
  },
  {
   "cell_type": "code",
   "execution_count": 8,
   "id": "af8a5d99-8ed2-49fd-a7c5-57d5e120de71",
   "metadata": {
    "tags": []
   },
   "outputs": [],
   "source": [
    "from scipy import integrate\n",
    "import numpy as np\n",
    "import random\n",
    "import pandas as pd\n",
    "\n",
    "def solver():\n",
    "    solutions = []\n",
    "    for i in range(-100,100):\n",
    "        i = i/10\n",
    "        if f(i) == 0:\n",
    "            solutions.append(i)\n",
    "    return solutions\n",
    "\n",
    "def integral_1(a,b):\n",
    "    if round(integrate.quad(f, a, b)[0],2) == 1.0:\n",
    "        integ = True\n",
    "    else:\n",
    "        integ = False\n",
    "    return integ\n",
    "\n",
    "def positivity(a,b):\n",
    "    a = round(a)\n",
    "    b = round(b)\n",
    "    pos = True\n",
    "    for i in range(a,b):\n",
    "        if f(i) < 0:\n",
    "            pos = False       \n",
    "    return pos\n",
    "\n",
    "def is_prime(n: int):\n",
    "    if n <= 3:\n",
    "        return n > 1\n",
    "    if n % 2 == 0 or n % 3 == 0:\n",
    "        return False\n",
    "    limit = int(math.sqrt(n))\n",
    "    for i in range(5, limit+1, 6):\n",
    "        if n % i == 0 or n % (i+2) == 0:\n",
    "            return False\n",
    "    return True\n",
    "\n",
    "def modularity(n: int):\n",
    "    modul = []\n",
    "    for i in range(1,n):\n",
    "        if n%i == 0:\n",
    "            modul.append(i)\n",
    "        else:\n",
    "            next\n",
    "    return modul\n",
    "\n",
    "def func_cont(f,a,b):\n",
    "    factor = 1000\n",
    "    interval = []\n",
    "    for i in range(factor*100):\n",
    "        interval.append(random.randint(a*factor,b*factor)/factor)\n",
    "    interval.sort\n",
    "    \n",
    "    cont = True\n",
    "    for i in range(len(interval)):\n",
    "        if f(interval[i])-f(interval[i]-0.00001) > 0.0005:\n",
    "            cont = False\n",
    "        if f(interval[i]+0.00001)-f(interval[i]) > 0.0005:\n",
    "            cont = False\n",
    "    return cont\n",
    "\n",
    "def dimensionality(x):\n",
    "    k = 0\n",
    "    if type(x) == list:\n",
    "        if type(x[1]) == list:\n",
    "            for i in range(len(x)):\n",
    "                k = k + len(x[i])\n",
    "            \n",
    "        elif type(x[1]) != list:\n",
    "            k = len(x)\n",
    "            \n",
    "    if type(x) == Series:\n",
    "        k = len(x)\n",
    "    if type(x) == DataFrame:\n",
    "        k = len(x) * len(x.columns)       \n",
    "            \n",
    "    return k\n",
    "\n",
    "def cardinality(x):\n",
    "    return len(x)\n"
   ]
  },
  {
   "cell_type": "code",
   "execution_count": 9,
   "id": "642683e3-9c03-4dd4-a1a5-e7aeb2e4fc5f",
   "metadata": {},
   "outputs": [
    {
     "name": "stdout",
     "output_type": "stream",
     "text": [
      "False\n",
      "True\n",
      "[1, 2, 4, 13, 26]\n"
     ]
    }
   ],
   "source": [
    "print(integral_1(1,2))\n",
    "print(positivity(1,2))\n",
    "print(modularity(52))\n",
    "#dimensionality(Data)\n",
    "#cardinality(Data)\n",
    "#solver()"
   ]
  },
  {
   "cell_type": "code",
   "execution_count": 10,
   "id": "9bcc4cd7-ab4a-4fa3-b9ce-dcb185b2de3a",
   "metadata": {},
   "outputs": [],
   "source": [
    "def sigma(A):\n",
    "    S = []\n",
    "    colec = []\n",
    "    \n",
    "    if str([]) not in S:\n",
    "        S.append([])\n",
    "\n",
    "    for i in A: \n",
    "        \n",
    "        if type(i) == int or type(i) == float or type(i) == str:\n",
    "            colec.append(i)\n",
    "        elif type(i) != int and type(i) != float and type(i) != str:\n",
    "            if type(i) == list:\n",
    "                S.append([i])\n",
    "\n",
    "            if len(colec) > 0:\n",
    "                S.append(colec)\n",
    "            colec = []\n",
    "        if i == A[-1] and len(colec) > 0 and type(A[-1]) != list and len(colec) < len(A):\n",
    "            S.append(colec)\n",
    "        \n",
    "\n",
    "    for a in A:\n",
    "        l = [e for e in A if e != a]\n",
    "        S.append(l)\n",
    "\n",
    "    if str(A) not in S:\n",
    "        S.append(A)\n",
    "\n",
    "\n",
    "    return pd.DataFrame(S)"
   ]
  },
  {
   "cell_type": "code",
   "execution_count": 11,
   "id": "8bd6e138-e03c-45a1-b1a5-47058ab3e153",
   "metadata": {},
   "outputs": [
    {
     "data": {
      "text/plain": [
       "4"
      ]
     },
     "execution_count": 11,
     "metadata": {},
     "output_type": "execute_result"
    }
   ],
   "source": [
    "import pandas as pd\n",
    "import numpy as np\n",
    "\n",
    "A = ['A','B','C',['Ø','X']]\n",
    "\n",
    "\n",
    "cardinality(A)"
   ]
  },
  {
   "cell_type": "code",
   "execution_count": 1,
   "id": "d53c3c15-9f34-4338-9402-6b207baec373",
   "metadata": {},
   "outputs": [],
   "source": [
    "#the process for 1 to inf.\n",
    "#is actually the process 1, 2, 3 ... and inf.\n",
    "#We therefore need a good way for python to deal with inf and 1/inf and -inf."
   ]
  },
  {
   "cell_type": "code",
   "execution_count": 14,
   "id": "74c98ef5-f9de-4846-868e-adcecf936297",
   "metadata": {},
   "outputs": [
    {
     "data": {
      "text/html": [
       "<div>\n",
       "<style scoped>\n",
       "    .dataframe tbody tr th:only-of-type {\n",
       "        vertical-align: middle;\n",
       "    }\n",
       "\n",
       "    .dataframe tbody tr th {\n",
       "        vertical-align: top;\n",
       "    }\n",
       "\n",
       "    .dataframe thead th {\n",
       "        text-align: right;\n",
       "    }\n",
       "</style>\n",
       "<table border=\"1\" class=\"dataframe\">\n",
       "  <thead>\n",
       "    <tr style=\"text-align: right;\">\n",
       "      <th></th>\n",
       "      <th>0</th>\n",
       "      <th>1</th>\n",
       "      <th>2</th>\n",
       "      <th>3</th>\n",
       "    </tr>\n",
       "  </thead>\n",
       "  <tbody>\n",
       "    <tr>\n",
       "      <th>0</th>\n",
       "      <td>None</td>\n",
       "      <td>None</td>\n",
       "      <td>None</td>\n",
       "      <td>None</td>\n",
       "    </tr>\n",
       "    <tr>\n",
       "      <th>1</th>\n",
       "      <td>[Ø, X]</td>\n",
       "      <td>None</td>\n",
       "      <td>None</td>\n",
       "      <td>None</td>\n",
       "    </tr>\n",
       "    <tr>\n",
       "      <th>2</th>\n",
       "      <td>A</td>\n",
       "      <td>B</td>\n",
       "      <td>C</td>\n",
       "      <td>None</td>\n",
       "    </tr>\n",
       "    <tr>\n",
       "      <th>3</th>\n",
       "      <td>B</td>\n",
       "      <td>C</td>\n",
       "      <td>[Ø, X]</td>\n",
       "      <td>None</td>\n",
       "    </tr>\n",
       "    <tr>\n",
       "      <th>4</th>\n",
       "      <td>A</td>\n",
       "      <td>C</td>\n",
       "      <td>[Ø, X]</td>\n",
       "      <td>None</td>\n",
       "    </tr>\n",
       "    <tr>\n",
       "      <th>5</th>\n",
       "      <td>A</td>\n",
       "      <td>B</td>\n",
       "      <td>[Ø, X]</td>\n",
       "      <td>None</td>\n",
       "    </tr>\n",
       "    <tr>\n",
       "      <th>6</th>\n",
       "      <td>A</td>\n",
       "      <td>B</td>\n",
       "      <td>C</td>\n",
       "      <td>None</td>\n",
       "    </tr>\n",
       "    <tr>\n",
       "      <th>7</th>\n",
       "      <td>A</td>\n",
       "      <td>B</td>\n",
       "      <td>C</td>\n",
       "      <td>[Ø, X]</td>\n",
       "    </tr>\n",
       "  </tbody>\n",
       "</table>\n",
       "</div>"
      ],
      "text/plain": [
       "        0     1       2       3\n",
       "0    None  None    None    None\n",
       "1  [Ø, X]  None    None    None\n",
       "2       A     B       C    None\n",
       "3       B     C  [Ø, X]    None\n",
       "4       A     C  [Ø, X]    None\n",
       "5       A     B  [Ø, X]    None\n",
       "6       A     B       C    None\n",
       "7       A     B       C  [Ø, X]"
      ]
     },
     "execution_count": 14,
     "metadata": {},
     "output_type": "execute_result"
    }
   ],
   "source": [
    "sigma(A)"
   ]
  },
  {
   "cell_type": "code",
   "execution_count": null,
   "id": "ee81b97c-9e4c-4a03-9d78-4d03166fa2f7",
   "metadata": {},
   "outputs": [],
   "source": [
    "if u is measurable(R) than u is L1:\n",
    "if u is L1 than u is measurable(R):"
   ]
  },
  {
   "cell_type": "code",
   "execution_count": null,
   "id": "66218a9d-ab12-4f1f-95ff-fee046077147",
   "metadata": {},
   "outputs": [],
   "source": [
    "foelge = ['u1', 'u2', 'u3', 'u4', 'un']\n",
    "if foelge is descending and ...\n",
    "if foelge is ascending and ...\n"
   ]
  },
  {
   "cell_type": "code",
   "execution_count": null,
   "id": "4ec58537-051a-480a-a50e-e7338718fea2",
   "metadata": {},
   "outputs": [],
   "source": [
    "from IPython.display import Markdown, display\n",
    "def printmd(string):\n",
    "    display(Markdown(string))\n",
    "\n",
    "equation = '$\\lambda$'\n",
    "printmd(equation)"
   ]
  },
  {
   "cell_type": "code",
   "execution_count": 3,
   "id": "58f9eef3-60b0-43e1-9835-e8bbc0bf91b4",
   "metadata": {},
   "outputs": [],
   "source": [
    "\n",
    "Pcb = Matrix([[98.0],[98.5],[100.0], [99.5], [99.0], [100.5], [101.0], [101.0], [101.5], [100.5]])\n",
    "Pcb\n",
    "CF = Matrix([[100.25, 0, 0, 0, 0, 0, 0, 0, 0, 0],\n",
    "            [0.375, 100.375, 0, 0, 0, 0, 0, 0, 0, 0],\n",
    "            [0.5, 0.5, 100.5, 0, 0, 0, 0, 0, 0, 0],\n",
    "            [0.625, 0.625, 0.625, 100.625, 0, 0, 0, 0, 0, 0],\n",
    "            [0.75, 0.75, 0.75, 0.75, 100.75, 0, 0, 0, 0, 0],\n",
    "            [0.85, 0.85, 0.85, 0.85, 0.85, 100.85, 0, 0, 0, 0],\n",
    "            [0.9, 0.9, 0.9, 0.9, 0.9, 0.9, 100.9, 0, 0, 0],\n",
    "            [1, 1, 1, 1, 1, 1, 1, 101, 0, 0],\n",
    "            [1.125, 1.125, 1.125, 1.125, 1.125, 1.125, 1.125, 1.125, 101.125, 0],\n",
    "            [1.25, 1.25, 1.25, 1.25, 1.25, 1.25, 1.25, 1.25, 1.25, 101.25]])\n",
    "CF\n",
    "B0_1, B0_2, B0_3, B0_4, B0_5, B0_6, B0_7, B0_8, B0_9, B0_10 = symbols('B(0\\,1), B(0\\,2), B(0\\,3), B(0\\,4), B(0\\,5), B(0\\,6), B(0\\,7), B(0\\,8), B(0\\,9), B(0\\,10)')\n",
    "Pzcb = Matrix([B0_1, B0_2, B0_3, B0_4, B0_5, B0_6, B0_7, B0_8, B0_9, B0_10])\n",
    "Pzcb\n",
    "\n",
    "Eq(Pcb, MatMul(CF,Pzcb))\n",
    "\n",
    "Pzcb_solved = (CF**-1)*(Pcb)\n",
    "Eq(Pzcb, Pzcb_solved)\n",
    "\n",
    "Pzcb_solved = np.array(Pzcb_solved) # converting to numpy array\n",
    "r0 = [2*math.log(1/Pzcb_solved[i])/(i+1) for i in range(len(Pzcb_solved))]\n",
    "r0\n",
    "\n",
    "plt.plot(np.arange(0.5, 5.5, 0.5),r0, label='Spot rate curve')\n",
    "plt.title(\"Spot Rate Curve\")\n",
    "plt.xlabel(\"Maturity (Years)\")\n",
    "plt.ylabel(\"Spot Rate\")\n",
    "plt.legend()\n",
    "plt.show()\n"
   ]
  },
  {
   "cell_type": "code",
   "execution_count": 26,
   "id": "ff8df706-d9e8-4047-b929-3e78ce24b9b2",
   "metadata": {
    "jupyter": {
     "source_hidden": true
    },
    "tags": []
   },
   "outputs": [],
   "source": [
    "from statsmodels.tsa.stattools import adfuller\n",
    "\n",
    "#Mathematics and statistics libraries\n",
    "import requests\n",
    "import json\n",
    "import os\n",
    "import datetime\n",
    "import maskpass\n",
    "import pandas as pd\n",
    "from typing import Dict\n",
    "from queue import Empty\n",
    "\n",
    "import math\n",
    "from math import *\n",
    "\n",
    "import numpy as np\n",
    "from numpy import array, dot, mean, std, hstack, asarray, exp, random\n",
    "import numpy.random as npr\n",
    "from numpy import linalg as LA\n",
    "from numpy.linalg import inv\n",
    "from numpy.random import normal\n",
    "\n",
    "#import numba as nb\n",
    "#from numba import guvectorize\n",
    "import random\n",
    "from random import randint\n",
    "from random import gauss\n",
    "from random import seed\n",
    "\n",
    "from scipy import signal\n",
    "from scipy import stats as ss\n",
    "from scipy.stats import skew, kurtosis, norm, laplace, cauchy, uniform, expon, gamma\n",
    "import scipy.integrate as integrate\n",
    "from scipy.integrate import quad\n",
    "import scipy.sparse\n",
    "from scipy.sparse.linalg import spsolve\n",
    "import scipy.special as scsp\n",
    "from scipy.interpolate import RegularGridInterpolator\n",
    "from scipy.optimize import minimize, Bounds\n",
    "\n",
    "import statistics\n",
    "import statsmodels.api as sm\n",
    "\n",
    "# plotting/graphing related libraries\n",
    "\n",
    "#data management\n",
    "import pandas as pd\n",
    "from pandas import Series, DataFrame\n",
    "import pandas_datareader.data as web\n",
    "import yfinance as yf\n",
    "\n",
    "#plotting and graphing libraries\n",
    "import matplotlib\n",
    "from matplotlib import pyplot as plt\n",
    "from matplotlib import cm\n",
    "from matplotlib.ticker import ScalarFormatter\n",
    "from matplotlib.dates import DateFormatter\n",
    "import matplotlib as mpl\n",
    "import matplotlib.mlab as mlab\n",
    "import matplotlib.pyplot as plt\n",
    "import ipywidgets as widgets\n",
    "from IPython.display import display\n",
    "from pylab import plt, mpl\n",
    "\n",
    "#3d graphs\n",
    "import mpl_toolkits.mplot3d as mpl \n",
    "from mpl_toolkits.mplot3d import Axes3D\n",
    "import seaborn as sns\n",
    "\n",
    "#utilities, such as copying time, website data requesting etc.\n",
    "import copy as copylib\n",
    "#from progressbar import *\n",
    "import time\n",
    "import requests\n",
    "#date and time management\n",
    "from datetime import datetime, date, timedelta, timezone\n",
    "#\n",
    "from IPython.display import display, HTML\n",
    "import warnings\n",
    "import sympy as sym\n",
    "from sympy import symbols, exp\n",
    "\n",
    "#excel things\n",
    "import xlsxwriter\n",
    "import openpyxl\n",
    "from openpyxl import Workbook\n",
    "from openpyxl.utils.dataframe import dataframe_to_rows\n",
    "\n",
    "#advanced libraries for quantitative finance.\n",
    "#import QuantLib as ql\n",
    "import bt\n",
    "import cvxpy as cvx\n",
    "#import arch\n",
    "#cvx solver\n",
    "#from cvxpy import *\n",
    "#import cvxpy as cvx\n",
    "#quadraticprogramming solvers\n",
    "#import quadprog\n",
    "#cvxopt solver\n",
    "#import cvxopt \n",
    "#from cvxopt import matrix\n",
    "#import cvxopt as opt\n",
    "#import cvxopt.solvers as optsolvers\n",
    "#solver framework\n",
    "\n",
    "import cvxopt\n",
    "from qpsolvers import solve_qp\n",
    "import qpsolvers\n",
    "from cvxopt import matrix, solvers\n",
    "\n",
    "#other tools\n",
    "#from pykalman import KalmanFilter\n",
    "#import tensorflow as tf\n",
    "#import itertools\n",
    "#import portfolioopt as pfopt\n",
    "#from __future__ import absolute_import\n",
    "#from .portfolioopt import *\n",
    "#from .test_portfolioopt import create_test_data\n",
    "#from sklearn import covariance\n",
    "#from sklearn.neighbors import KernelDensity\n",
    "\n",
    "# Import both Lognormal and Normal SABR model classes\n",
    "#from pysabr import Hagan2002LognormalSABR\n",
    "#from pysabr import Hagan2002NormalSABR\n",
    "#from pysabr.helpers import year_frac_from_maturity_label\n",
    "\n",
    "\n",
    "from IPython.display import Math\n",
    "%matplotlib inline\n",
    "#Math(r\"x_t = x_{t - 1} \\cdot e^{{r-0.5*\\sigma^2}/2} \\cdot dt + \\sigma/2 * \\sqrt{dt} * \\varphi (t)\")"
   ]
  },
  {
   "cell_type": "code",
   "execution_count": 36,
   "id": "3e6bd073-1f5b-4f51-961b-adab07cd92f6",
   "metadata": {},
   "outputs": [],
   "source": [
    "Stocks = pd.DataFrame()\n",
    "# dates in correct format for yahoo finance.\n",
    "today = date.today()\n",
    "today = datetime(today.year,today.month,today.day - 1) #today\n",
    "one = datetime(today.year-1,today.month,today.day) #one year ago\n",
    "three = datetime(today.year-3,today.month,today.day) #three years ago\n",
    "five = datetime(today.year-5,today.month,today.day) #five years ago\n",
    "ten = datetime(today.year-10,today.month,today.day) #ten years ago\n",
    "twenty = datetime(today.year-20,today.month,today.day) #twenty years ago\n",
    "\n",
    "def sdata(x, y, z):\n",
    "    st = pd.DataFrame()\n",
    "    t = yf.Ticker(x)\n",
    "    st = t.history(start=y, end=z)\n",
    "    st.index = pd.to_datetime(st.index).tz_localize(None)\n",
    "    return st"
   ]
  },
  {
   "cell_type": "code",
   "execution_count": 49,
   "id": "ccc910b8-4fe9-4193-aad2-889f60d02131",
   "metadata": {},
   "outputs": [
    {
     "data": {
      "text/plain": [
       "7"
      ]
     },
     "execution_count": 49,
     "metadata": {},
     "output_type": "execute_result"
    }
   ],
   "source": [
    "len(Data.columns)"
   ]
  },
  {
   "cell_type": "code",
   "execution_count": 43,
   "id": "112e8a3d-3712-4204-8982-ca7e7776867a",
   "metadata": {},
   "outputs": [
    {
     "data": {
      "text/plain": [
       "True"
      ]
     },
     "execution_count": 43,
     "metadata": {},
     "output_type": "execute_result"
    }
   ],
   "source": [
    "type(Data) == DataFrame"
   ]
  },
  {
   "cell_type": "code",
   "execution_count": 38,
   "id": "f5aa8f60-711a-413e-9140-0af34d580cc2",
   "metadata": {},
   "outputs": [],
   "source": [
    "Data = sdata(\"AAPL\",one,today)"
   ]
  },
  {
   "cell_type": "code",
   "execution_count": 6,
   "id": "8a16d9c3-f42b-47ca-acf2-8f53931fb835",
   "metadata": {},
   "outputs": [
    {
     "data": {
      "image/png": "[encoded data removed]",
      "text/plain": [
       "<Figure size 640x480 with 1 Axes>"
      ]
     },
     "metadata": {},
     "output_type": "display_data"
    }
   ],
   "source": [
    "%matplotlib inline\n",
    "import matplotlib.pyplot as plt\n",
    "import seaborn as sns; sns.set()\n",
    "import numpy as np\n",
    "\n",
    "rng = np.random.RandomState(1)\n",
    "x = 10 * rng.rand(50)\n",
    "y = 2 * x - 5 + rng.randn(50)\n",
    "plt.scatter(x, y);"
   ]
  },
  {
   "cell_type": "code",
   "execution_count": 7,
   "id": "ee3bf2d3-67d2-47c4-bbd7-779d54a623cc",
   "metadata": {},
   "outputs": [
    {
     "data": {
      "image/png": "[encoded data removed]",
      "text/plain": [
       "<Figure size 640x480 with 1 Axes>"
      ]
     },
     "metadata": {},
     "output_type": "display_data"
    }
   ],
   "source": [
    "from sklearn.linear_model import LinearRegression\n",
    "model = LinearRegression(fit_intercept=True)\n",
    "\n",
    "model.fit(x[:, np.newaxis], y)\n",
    "\n",
    "xfit = np.linspace(0, 10, 1000)\n",
    "yfit = model.predict(xfit[:, np.newaxis])\n",
    "\n",
    "plt.scatter(x, y)\n",
    "plt.plot(xfit, yfit);"
   ]
  },
  {
   "cell_type": "code",
   "execution_count": 8,
   "id": "f653eb15-6851-4554-b63e-740d6cb0b473",
   "metadata": {},
   "outputs": [
    {
     "name": "stdout",
     "output_type": "stream",
     "text": [
      "Model slope:     2.027208810360695\n",
      "Model intercept: -4.998577085553202\n"
     ]
    }
   ],
   "source": [
    "print(\"Model slope:    \", model.coef_[0])\n",
    "print(\"Model intercept:\", model.intercept_)"
   ]
  },
  {
   "cell_type": "code",
   "execution_count": 12,
   "id": "e8c928b2-0e7f-4b6a-80e0-d0cdb3babe0a",
   "metadata": {},
   "outputs": [
    {
     "name": "stdout",
     "output_type": "stream",
     "text": [
      "[ 1.5 -2.   1. ]\n",
      "0.5000000000000144\n"
     ]
    }
   ],
   "source": [
    "rng = np.random.RandomState(1)\n",
    "X = 10 * rng.rand(100, 3)\n",
    "y = 0.5 + np.dot(X, [1.5, -2., 1.])\n",
    "\n",
    "model.fit(X, y)\n",
    "print(model.coef_)\n",
    "print(model.intercept_)"
   ]
  },
  {
   "cell_type": "code",
   "execution_count": null,
   "id": "f4e1de8c-0ab3-418a-b299-061cb8d2e9b8",
   "metadata": {},
   "outputs": [],
   "source": []
  },
  {
   "cell_type": "code",
   "execution_count": 13,
   "id": "01195bf3-74f7-4ae3-9424-15d6dd449728",
   "metadata": {},
   "outputs": [],
   "source": [
    "from sklearn.preprocessing import PolynomialFeatures\n",
    "x = np.array([2, 3, 4])\n",
    "poly = PolynomialFeatures(3, include_bias=False)\n",
    "poly.fit_transform(x[:, None])\n",
    "\n",
    "from sklearn.pipeline import make_pipeline\n",
    "poly_model = make_pipeline(PolynomialFeatures(7),\n",
    "                           LinearRegression())"
   ]
  },
  {
   "cell_type": "code",
   "execution_count": 23,
   "id": "6e345727-a186-4fca-9b6e-49e96d877ed0",
   "metadata": {},
   "outputs": [
    {
     "data": {
      "text/plain": [
       "Pipeline(steps=[('polynomialfeatures', PolynomialFeatures(degree=7)),\n",
       "                ('linearregression', LinearRegression())])"
      ]
     },
     "execution_count": 23,
     "metadata": {},
     "output_type": "execute_result"
    }
   ],
   "source": [
    "poly_model"
   ]
  },
  {
   "cell_type": "code",
   "execution_count": 18,
   "id": "6b1896e9-7e1d-45dc-ac7e-75512094c29b",
   "metadata": {},
   "outputs": [
    {
     "data": {
      "image/png": "[encoded data removed]",
      "text/plain": [
       "<Figure size 640x480 with 1 Axes>"
      ]
     },
     "metadata": {},
     "output_type": "display_data"
    }
   ],
   "source": [
    "rng = np.random.RandomState(1)\n",
    "x = 10 * rng.rand(50)\n",
    "y = np.sin(x) + 0.1 * rng.randn(50)\n",
    "\n",
    "poly_model.fit(x[:, np.newaxis], y)\n",
    "\n",
    "xfit = np.linspace(0, 10, 1000)\n",
    "yfit = poly_model.predict(xfit[:, np.newaxis])\n",
    "\n",
    "plt.scatter(x, y)\n",
    "plt.plot(xfit, yfit);"
   ]
  },
  {
   "cell_type": "code",
   "execution_count": 20,
   "id": "c2161eac-0c0d-48f3-9afb-44a0302383fd",
   "metadata": {},
   "outputs": [
    {
     "data": {
      "image/png": "[encoded data removed]",
      "text/plain": [
       "<Figure size 640x480 with 1 Axes>"
      ]
     },
     "metadata": {},
     "output_type": "display_data"
    }
   ],
   "source": [
    "from sklearn.base import BaseEstimator, TransformerMixin\n",
    "\n",
    "class GaussianFeatures(BaseEstimator, TransformerMixin):\n",
    "    \"\"\"Uniformly spaced Gaussian features for one-dimensional input\"\"\"\n",
    "    \n",
    "    def __init__(self, N, width_factor=2.0):\n",
    "        self.N = N\n",
    "        self.width_factor = width_factor\n",
    "    \n",
    "    @staticmethod\n",
    "    def _gauss_basis(x, y, width, axis=None):\n",
    "        arg = (x - y) / width\n",
    "        return np.exp(-0.5 * np.sum(arg ** 2, axis))\n",
    "        \n",
    "    def fit(self, X, y=None):\n",
    "        # create N centers spread along the data range\n",
    "        self.centers_ = np.linspace(X.min(), X.max(), self.N)\n",
    "        self.width_ = self.width_factor * (self.centers_[1] - self.centers_[0])\n",
    "        return self\n",
    "        \n",
    "    def transform(self, X):\n",
    "        return self._gauss_basis(X[:, :, np.newaxis], self.centers_,\n",
    "                                 self.width_, axis=1)\n",
    "    \n",
    "gauss_model = make_pipeline(GaussianFeatures(20),\n",
    "                            LinearRegression())\n",
    "gauss_model.fit(x[:, np.newaxis], y)\n",
    "xfit = np.linspace(0, 10, 1000)\n",
    "yfit = gauss_model.predict(xfit[:, np.newaxis])\n",
    "\n",
    "plt.scatter(x, y)\n",
    "plt.plot(xfit, yfit)\n",
    "plt.xlim(0, 10);"
   ]
  },
  {
   "cell_type": "code",
   "execution_count": 22,
   "id": "1cfb752c-0b8d-4fcd-a785-69297281c137",
   "metadata": {},
   "outputs": [
    {
     "data": {
      "image/png": "[encoded data removed]",
      "text/plain": [
       "<Figure size 640x480 with 1 Axes>"
      ]
     },
     "metadata": {},
     "output_type": "display_data"
    }
   ],
   "source": [
    "model = make_pipeline(GaussianFeatures(30),\n",
    "                      LinearRegression())\n",
    "model.fit(x[:, np.newaxis], y)\n",
    "\n",
    "plt.scatter(x, y)\n",
    "plt.plot(xfit, model.predict(xfit[:, np.newaxis]))\n",
    "\n",
    "plt.xlim(0, 10)\n",
    "plt.ylim(-3, 1.5);"
   ]
  },
  {
   "cell_type": "code",
   "execution_count": null,
   "id": "f4b13e39-5f84-42b9-95e1-f75843f63b67",
   "metadata": {},
   "outputs": [],
   "source": []
  }
 ],
 "metadata": {
  "kernelspec": {
   "display_name": "Python 3 (ipykernel)",
   "language": "python",
   "name": "python3"
  },
  "language_info": {
   "codemirror_mode": {
    "name": "ipython",
    "version": 3
   },
   "file_extension": ".py",
   "mimetype": "text/x-python",
   "name": "python",
   "nbconvert_exporter": "python",
   "pygments_lexer": "ipython3",
   "version": "3.9.13"
  }
 },
 "nbformat": 4,
 "nbformat_minor": 5
}
